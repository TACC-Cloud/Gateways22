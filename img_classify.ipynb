{
 "cells": [
  {
   "cell_type": "markdown",
   "source": [
    "# Tapis v3 Gateways 2021 Hands-on\n",
    "\n",
    "In this notebook, you will use Tapis v3 to create two systems and one application that will be used to run\n",
    "an image classification job on both a VM and an HPC cluster.\n",
    "\n",
    "To execute each `In[#]` cell, you can click inside the cell and press `Shift + Enter`\n",
    "\n",
    "## Authenticate and initialize Tapis v3 client\n",
    "\n",
    "First, use `tapipy` to authenticate in the **tacc** tenant and initialize the Tapis v3 client.\n",
    "Enter the username and password that you were assigned for the tutorial."
   ],
   "metadata": {
    "collapsed": false
   }
  },
  {
   "cell_type": "code",
   "execution_count": null,
   "outputs": [],
   "source": [
    "import datetime\n",
    "import getpass\n",
    "import os\n",
    "\n",
    "username = input('Username: ')\n",
    "password = getpass.getpass(prompt='Password: ', stream=None)\n",
    "base_url = 'https://tacc.tapis.io'\n",
    "\n",
    "from tapipy.tapis import Tapis\n",
    "#Create python Tapis client for user\n",
    "client = Tapis(base_url= base_url, username=username, password=password)\n",
    "# *** Tapis v3: Call to Tokens API\n",
    "client.get_tokens()\n",
    "# Print Tapis v3 token\n",
    "client.access_token"
   ],
   "metadata": {
    "collapsed": false,
    "pycharm": {
     "name": "#%%\n"
    }
   }
  },
  {
   "cell_type": "markdown",
   "source": [
    "## Systems\n",
    "\n",
    "In this section we create two Tapis systems, one for a training VM host and one for the stampede2 HPC cluster.\n",
    "\n",
    "Note that although it is possible, we have not provided any login credentials in the system definitions.\n",
    "Well-crafted system definitions are likely to be copied and re-used, so, for security reasons, it is recommended that\n",
    "login credentials be registered using a separate API call as discussed below.\n",
    "\n",
    "### Create a system for the VM host"
   ],
   "metadata": {
    "collapsed": false,
    "pycharm": {
     "name": "#%% md\n"
    }
   }
  },
  {
   "cell_type": "code",
   "execution_count": null,
   "outputs": [],
   "source": [
    "user_id = username\n",
    "system_id = \"gateways21-vm-\" + user_id\n",
    "vm_password = password\n",
    "\n",
    "# Create the system definition\n",
    "exec_system1 = {\n",
    "  \"id\": system_id,\n",
    "  \"description\": \"System for testing jobs on a VM for gateways2021 tutorial\",\n",
    "  \"systemType\": \"LINUX\",\n",
    "  \"host\": \"129.114.19.192\",\n",
    "  \"defaultAuthnMethod\": \"PASSWORD\",\n",
    "  \"rootDir\": \"/home/\"+user_id,\n",
    "  \"canExec\": True,\n",
    "  \"jobRuntimes\": [ { \"runtimeType\": \"SINGULARITY\" } ],\n",
    "  \"jobWorkingDir\": \"workdir\",\n",
    "  \"batchScheduler\": \"SLURM\",\n",
    "  \"jobIsBatch\": True,\n",
    "  \"batchLogicalQueues\": [\n",
    "    {\n",
    "      \"name\": \"tapisNormal\",\n",
    "      \"hpcQueueName\": \"debug\",\n",
    "      \"maxJobs\": 50,\n",
    "      \"maxJobsPerUser\": 10,\n",
    "      \"minNodeCount\": 1,\n",
    "      \"maxNodeCount\": 16,\n",
    "      \"minCoresPerNode\": 1,\n",
    "      \"maxCoresPerNode\": 68,\n",
    "      \"minMemoryMB\": 1,\n",
    "      \"maxMemoryMB\": 16384,\n",
    "      \"minMinutes\": 1,\n",
    "      \"maxMinutes\": 60\n",
    "    }\n",
    "  ],\n",
    "  \"batchDefaultLogicalQueue\": \"tapisNormal\"\n",
    "}\n",
    "\n",
    "# Use the client to create the system in Tapis\n",
    "client.systems.createSystem(**exec_system1)\n",
    "\n",
    "client.systems.getSystems()\n",
    "\n",
    "client.systems.getSystem(systemId=system_id)"
   ],
   "metadata": {
    "collapsed": false,
    "pycharm": {
     "name": "#%%\n"
    }
   }
  },
  {
   "cell_type": "markdown",
   "source": [
    "### Register Credentials for the VM system\n",
    "\n",
    "After creating the system, you will need to register credentials for your username. These will be used by Tapis to\n",
    "access the host. Various authentication methods can be used to access a system, such as PASSWORD and PKI_KEYS. Here we\n",
    "will cover registering a password.\n",
    "\n",
    "Then use the client to list files on the system. This will confirm that the credentials are valid."
   ],
   "metadata": {
    "collapsed": false
   }
  },
  {
   "cell_type": "code",
   "execution_count": null,
   "outputs": [],
   "source": [
    "client.systems.createUserCredential(systemId=system_id, userName=user_id, password=vm_password)\n",
    "\n",
    "client.files.listFiles(systemId=system_id, path=\"/\")"
   ],
   "metadata": {
    "collapsed": false,
    "pycharm": {
     "name": "#%%\n"
    }
   }
  },
  {
   "cell_type": "markdown",
   "source": [
    "## Applications\n",
    "\n",
    "In order to run a job on a system you will need to create or have access to a Tapis application."
   ],
   "metadata": {
    "collapsed": false
   }
  }
 ],
 "metadata": {
  "kernelspec": {
   "display_name": "Python 3",
   "language": "python",
   "name": "python3"
  },
  "language_info": {
   "codemirror_mode": {
    "name": "ipython",
    "version": 3
   },
   "file_extension": ".py",
   "mimetype": "text/x-python",
   "name": "python",
   "nbconvert_exporter": "python",
   "pygments_lexer": "ipython3",
   "version": "3.7.5"
  }
 },
 "nbformat": 4,
 "nbformat_minor": 2
}