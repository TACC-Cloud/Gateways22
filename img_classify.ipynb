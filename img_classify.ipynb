{
 "cells": [
  {
   "cell_type": "markdown",
   "source": [
    "# Tapis v3 Gateways 2021 Hands-on\n",
    "\n",
    "In this notebook, you will use Tapis v3 to create two systems and one application that will be used to run\n",
    "an image classification job on both a VM and an HPC cluster.\n",
    "\n",
    "To execute each `In[#]` cell, you can click inside the cell and press `Shift + Enter`\n",
    "\n",
    "## Enter training account information\n",
    "\n",
    "To get things started, please run the following and enter the training account information provided to you:"
   ],
   "metadata": {
    "collapsed": false
   }
  },
  {
   "cell_type": "code",
   "execution_count": null,
   "outputs": [],
   "source": [
    "import getpass\n",
    "\n",
    "tenant = 'tacc'\n",
    "base_url = 'https://' + tenant + '.tapis.io'\n",
    "\n",
    "username = input('Username: ')\n",
    "password = getpass.getpass(prompt='Password: ', stream=None)\n",
    "host = input('Host: ')"
   ],
   "metadata": {
    "collapsed": false,
    "pycharm": {
     "name": "#%%\n"
    }
   }
  },
  {
   "cell_type": "markdown",
   "source": [
    "## Authenticate and initialize Tapis v3 client\n",
    "\n",
    "Using this information, you can now use `tapipy` to authenticate in the tenant and initialize the\n",
    "Tapis v3 client. You should see your token information displayed."
   ],
   "metadata": {
    "collapsed": false,
    "pycharm": {
     "name": "#%% md\n"
    }
   }
  },
  {
   "cell_type": "code",
   "execution_count": null,
   "outputs": [],
   "source": [
    "from tapipy.tapis import Tapis\n",
    "#Create python Tapis client for user\n",
    "client = Tapis(base_url= base_url, username=username, password=password)\n",
    "# *** Tapis v3: Call to Tokens API\n",
    "client.get_tokens()\n",
    "# Print Tapis v3 token\n",
    "client.access_token"
   ],
   "metadata": {
    "collapsed": false,
    "pycharm": {
     "name": "#%%\n"
    }
   }
  },
  {
   "cell_type": "markdown",
   "source": [
    "## Systems\n",
    "\n",
    "In this section we create two Tapis systems, one for a training VM host and one for the stampede2 HPC cluster.\n",
    "\n",
    "Note that although it is possible, we have not provided any login credentials in the system definitions.\n",
    "Well-crafted system definitions are likely to be copied and re-used, so, for security reasons, it is recommended that\n",
    "login credentials be registered using separate API calls as discussed below.\n",
    "\n",
    "### Create a system for the VM host"
   ],
   "metadata": {
    "collapsed": false,
    "pycharm": {
     "name": "#%% md\n"
    }
   }
  },
  {
   "cell_type": "code",
   "execution_count": null,
   "outputs": [],
   "source": [
    "user_id = username\n",
    "system_id_vm = \"gateways21-vm-\" + user_id\n",
    "\n",
    "# Create the system definition\n",
    "exec_system_vm = {\n",
    "  \"id\": system_id_vm,\n",
    "  \"description\": \"System for testing jobs on a VM for gateways2021 tutorial\",\n",
    "  \"systemType\": \"LINUX\",\n",
    "  \"host\": host,\n",
    "  \"defaultAuthnMethod\": \"PASSWORD\",\n",
    "  \"port\": 22,\n",
    "  \"rootDir\": \"/home/\"+user_id,\n",
    "  \"canExec\": True,\n",
    "  \"jobRuntimes\": [ { \"runtimeType\": \"SINGULARITY\" } ],\n",
    "  \"jobWorkingDir\": \"workdir\",\n",
    "  \"jobIsBatch\": True,\n",
    "  \"batchScheduler\": \"SLURM\",\n",
    "  \"batchDefaultLogicalQueue\": \"tapisNormal\",\n",
    "  \"batchLogicalQueues\": [\n",
    "    {\n",
    "      \"name\": \"tapisNormal\",\n",
    "      \"hpcQueueName\": \"debug\",\n",
    "      \"maxJobs\": 50,\n",
    "      \"maxJobsPerUser\": 10,\n",
    "      \"minNodeCount\": 1,\n",
    "      \"maxNodeCount\": 16,\n",
    "      \"minCoresPerNode\": 1,\n",
    "      \"maxCoresPerNode\": 68,\n",
    "      \"minMemoryMB\": 1,\n",
    "      \"maxMemoryMB\": 16384,\n",
    "      \"minMinutes\": 1,\n",
    "      \"maxMinutes\": 60\n",
    "    }\n",
    "  ]\n",
    "}\n",
    "\n",
    "# Use the client to create the system in Tapis\n",
    "print(\"****************************************************\")\n",
    "print(\"Create system: \" + system_id_vm)\n",
    "print(\"****************************************************\")\n",
    "client.systems.createSystem(**exec_system_vm)"
   ],
   "metadata": {
    "collapsed": false,
    "pycharm": {
     "name": "#%%\n"
    }
   }
  },
  {
   "cell_type": "code",
   "execution_count": null,
   "outputs": [],
   "source": [
    "# List all systems available to you\n",
    "print(\"****************************************************\")\n",
    "print(\"List all systems\")\n",
    "print(\"****************************************************\")\n",
    "client.systems.getSystems()"
   ],
   "metadata": {
    "collapsed": false,
    "pycharm": {
     "name": "#%%\n"
    }
   }
  },
  {
   "cell_type": "code",
   "execution_count": null,
   "outputs": [],
   "source": [
    "# Get details for the system you created\n",
    "print(\"****************************************************\")\n",
    "print(\"Fetch system: \" + system_id_vm)\n",
    "print(\"****************************************************\")\n",
    "client.systems.getSystem(systemId=system_id_vm)"
   ],
   "metadata": {
    "collapsed": false,
    "pycharm": {
     "name": "#%%\n"
    }
   }
  },
  {
   "cell_type": "markdown",
   "source": [
    "### Register Credentials for the VM system\n",
    "\n",
    "After creating the system, you will need to register credentials for your username. These will be used by Tapis to\n",
    "access the host. Various authentication methods can be used to access a system, such as PASSWORD and PKI_KEYS. For the\n",
    "VM a password is used."
   ],
   "metadata": {
    "collapsed": false
   }
  },
  {
   "cell_type": "code",
   "execution_count": null,
   "outputs": [],
   "source": [
    "password_vm = password\n",
    "# Register credentials\n",
    "client.systems.createUserCredential(systemId=system_id_vm, userName=user_id, password=password_vm)"
   ],
   "metadata": {
    "collapsed": false,
    "pycharm": {
     "name": "#%%\n"
    }
   }
  },
  {
   "cell_type": "markdown",
   "source": [
    "Now you can use the client to list files on the system. This will confirm that the credentials are valid."
   ],
   "metadata": {
    "collapsed": false,
    "pycharm": {
     "name": "#%% md\n"
    }
   }
  },
  {
   "cell_type": "code",
   "execution_count": null,
   "outputs": [],
   "source": [
    "# List files at the rootDir for the system\n",
    "client.files.listFiles(systemId=system_id_vm, path=\"/\")"
   ],
   "metadata": {
    "collapsed": false,
    "pycharm": {
     "name": "#%%\n"
    }
   }
  },
  {
   "cell_type": "markdown",
   "source": [
    "### Create a system for the HPC cluster\n",
    "\n",
    "With just a few changes to the system definition you can create a second system that can be used to run the\n",
    "same application on an HPC cluster. Note the minimal changes:\n",
    "\n",
    "* **id** - A unique id is required\n",
    "* **host** - This is now the main hostname for the HPC cluster\n",
    "* **rootDir** - Using the root directory of the host gives us flexibility in setting **jobWorkingDir**.\n",
    "  Note that you still need LINUX permissions.\n",
    "* **jobWorkingDir** - Now determined dynamically using the Tapis v3 function HOST_EVAL()\n",
    "* **batchLogicalQueue.hpcQueueName** - A different underlying queue name is used for the HPC cluster."
   ],
   "metadata": {
    "collapsed": false
   }
  },
  {
   "cell_type": "code",
   "execution_count": null,
   "outputs": [],
   "source": [
    "user_id = username\n",
    "system_id_hpc = \"gateways21-hpc-\" + user_id\n",
    "\n",
    "# Create the system definition\n",
    "exec_system_hpc = {\n",
    "  \"id\": system_id_hpc,\n",
    "  \"description\": \"System for testing jobs on an HPC cluster for gateways2021 tutorial\",\n",
    "  \"systemType\": \"LINUX\",\n",
    "  \"host\": \"stampede2.tacc.utexas.edu\",\n",
    "  \"defaultAuthnMethod\": \"PASSWORD\",\n",
    "  \"port\": 22,\n",
    "  \"rootDir\": \"/\",\n",
    "  \"canExec\": True,\n",
    "  \"jobRuntimes\": [ { \"runtimeType\": \"SINGULARITY\" } ],\n",
    "  \"jobWorkingDir\": \"HOST_EVAL($WORK2)\",\n",
    "  \"jobIsBatch\": True,\n",
    "  \"batchScheduler\": \"SLURM\",\n",
    "  \"batchSchedulerProfile\": \"tacc\",\n",
    "  \"batchDefaultLogicalQueue\": \"tapisNormal\",\n",
    "  \"batchLogicalQueues\": [\n",
    "    {\n",
    "      \"name\": \"tapisNormal\",\n",
    "      \"hpcQueueName\": \"normal\",\n",
    "      \"maxJobs\": 50,\n",
    "      \"maxJobsPerUser\": 10,\n",
    "      \"minNodeCount\": 1,\n",
    "      \"maxNodeCount\": 16,\n",
    "      \"minCoresPerNode\": 1,\n",
    "      \"maxCoresPerNode\": 68,\n",
    "      \"minMemoryMB\": 1,\n",
    "      \"maxMemoryMB\": 16384,\n",
    "      \"minMinutes\": 1,\n",
    "      \"maxMinutes\": 60\n",
    "    }\n",
    "  ]\n",
    "}\n",
    "\n",
    "# Use the client to create the system in Tapis\n",
    "print(\"****************************************************\")\n",
    "print(\"Create system: \" + system_id_hpc)\n",
    "print(\"****************************************************\")\n",
    "client.systems.createSystem(**exec_system_hpc)"
   ],
   "metadata": {
    "collapsed": false,
    "pycharm": {
     "name": "#%%\n"
    }
   }
  },
  {
   "cell_type": "code",
   "execution_count": null,
   "outputs": [],
   "source": [
    "# List all systems available to you\n",
    "print(\"****************************************************\")\n",
    "print(\"List all systems\")\n",
    "print(\"****************************************************\")\n",
    "client.systems.getSystems()"
   ],
   "metadata": {
    "collapsed": false,
    "pycharm": {
     "name": "#%%\n"
    }
   }
  },
  {
   "cell_type": "code",
   "execution_count": null,
   "outputs": [],
   "source": [
    "# Get details for the system you created\n",
    "print(\"****************************************************\")\n",
    "print(\"Fetch system: \" + system_id_hpc)\n",
    "print(\"****************************************************\")\n",
    "client.systems.getSystem(systemId=system_id_hpc)"
   ],
   "metadata": {
    "collapsed": false,
    "pycharm": {
     "name": "#%%\n"
    }
   }
  },
  {
   "cell_type": "markdown",
   "source": [
    "### Register Credentials for the HPC system\n",
    "\n",
    "As before, now you will need to register credentials for your username. These will be used by Tapis to\n",
    "access the host."
   ],
   "metadata": {
    "collapsed": false
   }
  },
  {
   "cell_type": "code",
   "execution_count": null,
   "outputs": [],
   "source": [
    "password_hpc = password\n",
    "# Register credentials\n",
    "client.systems.createUserCredential(systemId=system_id_hpc, userName=user_id, password=password_hpc)"
   ],
   "metadata": {
    "collapsed": false,
    "pycharm": {
     "name": "#%%\n"
    }
   }
  },
  {
   "cell_type": "markdown",
   "source": [
    "Now you can use the client to list files on the system. This will confirm that the credentials are valid."
   ],
   "metadata": {
    "collapsed": false
   }
  },
  {
   "cell_type": "code",
   "execution_count": null,
   "outputs": [],
   "source": [
    "# List files at the rootDir for the system\n",
    "client.files.listFiles(systemId=system_id_hpc, path=\"/\")"
   ],
   "metadata": {
    "collapsed": false,
    "pycharm": {
     "name": "#%%\n"
    }
   }
  },
  {
   "cell_type": "markdown",
   "source": [
    "## Application\n",
    "\n",
    "In order to run a job on a system you will need to create a Tapis application.\n",
    "\n",
    "### Create an application that can be run on the VM host or the HPC cluster"
   ],
   "metadata": {
    "collapsed": false
   }
  },
  {
   "cell_type": "code",
   "execution_count": null,
   "outputs": [],
   "source": [
    "user_id = username\n",
    "app_id = \"gateways21-img-classify-\" + user_id\n",
    "\n",
    "# Create the application definition\n",
    "app_def = {\n",
    "  \"id\": app_id,\n",
    "  \"version\": \"0.0.1\",\n",
    "  \"description\": \"Image classifier run using Singularity in batch mode\",\n",
    "  \"appType\": \"BATCH\",\n",
    "  \"runtime\": \"SINGULARITY\",\n",
    "  \"runtimeOptions\": [\"SINGULARITY_RUN\"],\n",
    "  \"containerImage\": \"docker://tapis/img-classify:0.1\",\n",
    "  \"jobAttributes\": {\n",
    "    \"parameterSet\": {\n",
    "      \"archiveFilter\": { \"includeLaunchFiles\": False }\n",
    "    },\n",
    "    \"memoryMB\": 1,\n",
    "    \"nodeCount\": 1,\n",
    "    \"coresPerNode\": 1,\n",
    "    \"maxMinutes\": 10\n",
    "  }\n",
    "}\n",
    "\n",
    "# Use the client to create the application in Tapis\n",
    "print(\"****************************************************\")\n",
    "print(\"Create application: \" + app_id)\n",
    "print(\"****************************************************\")\n",
    "client.apps.createAppVersion(**app_def)"
   ],
   "metadata": {
    "collapsed": false,
    "pycharm": {
     "name": "#%%\n"
    }
   }
  },
  {
   "cell_type": "code",
   "execution_count": null,
   "outputs": [],
   "source": [
    "# List all applications available to you\n",
    "print(\"****************************************************\")\n",
    "print(\"List all applications\")\n",
    "print(\"****************************************************\")\n",
    "client.apps.getApps()"
   ],
   "metadata": {
    "collapsed": false,
    "pycharm": {
     "name": "#%%\n"
    }
   }
  },
  {
   "cell_type": "code",
   "execution_count": null,
   "outputs": [],
   "source": [
    "# Get details for the application you created\n",
    "print(\"****************************************************\")\n",
    "print(\"Fetch application: \" + app_id)\n",
    "print(\"****************************************************\")\n",
    "client.apps.getAppLatestVersion(appId=app_id)"
   ],
   "metadata": {
    "collapsed": false,
    "pycharm": {
     "name": "#%%\n"
    }
   }
  },
  {
   "cell_type": "markdown",
   "source": [
    "## Jobs"
   ],
   "metadata": {
    "collapsed": false
   }
  },
  {
   "cell_type": "code",
   "execution_count": null,
   "outputs": [],
   "source": [
    "# Run Image classifier app on the Virtual Machine\n",
    "# In the arg pass a url of the image you would like to classify\n",
    "pa = {\n",
    " \"parameterSet\": {\n",
    "      \"appArgs\": [\n",
    "          {\"arg\": \"--image_file\", \"meta\": { \"name\": \"arg1\", \"required\": True}},\n",
    "          {\"arg\": \"'https://s3.amazonaws.com/cdn-origin-etr.akc.org/wp-content/uploads/2017/11/12231410/Labrador-Retriever-On-White-01.jpg'\",\n",
    "           \"meta\": {\"name\": \"arg2\", \"required\": True}\n",
    "          }\n",
    "      ]\n",
    " }\n",
    "}\n",
    "# Submit a job\n",
    "job_output=client.jobs.submitJob(name='img-classifier-job-vm',description='image classifier',appId=app_id,execSystemId=system_id_vm,appVersion= '0.0.1',\n",
    "  **pa)"
   ],
   "metadata": {
    "collapsed": false,
    "pycharm": {
     "name": "#%%\n"
    }
   }
  },
  {
   "cell_type": "code",
   "execution_count": null,
   "outputs": [],
   "source": [
    "print(\"****************************************************\")\n",
    "print(\"Job Submitted: \" + app_id)\n",
    "print(\"****************************************************\")\n",
    "print(job_output)"
   ],
   "metadata": {
    "collapsed": false,
    "pycharm": {
     "name": "#%%\n"
    }
   }
  },
  {
   "cell_type": "code",
   "execution_count": null,
   "outputs": [],
   "source": [
    "# Get job uuid from the job submission response\n",
    "print(\"****************************************************\")\n",
    "job_uuid=job_output.uuid\n",
    "print(\"Job UUID: \" + job_uuid)\n",
    "print(\"****************************************************\")"
   ],
   "metadata": {
    "collapsed": false,
    "pycharm": {
     "name": "#%%\n"
    }
   }
  },
  {
   "cell_type": "code",
   "execution_count": null,
   "outputs": [],
   "source": [
    "# Check the status of the job\n",
    "print(\"****************************************************\")\n",
    "job_uuid=job_output.uuid\n",
    "print(client.jobs.getJobStatus(jobUuid=job_uuid))\n",
    "print(\"****************************************************\")"
   ],
   "metadata": {
    "collapsed": false,
    "pycharm": {
     "name": "#%%\n"
    }
   }
  },
  {
   "cell_type": "code",
   "execution_count": null,
   "outputs": [],
   "source": [
    "# To cancel a running job\n",
    "client.jobs.cancelJob(jobUuid='0777ed62-b746-4b2d-82cd-9c0e616e91df-007')"
   ],
   "metadata": {
    "collapsed": false,
    "pycharm": {
     "name": "#%%\n"
    }
   }
  },
  {
   "cell_type": "code",
   "execution_count": null,
   "outputs": [],
   "source": [
    "# Download output of the job\n",
    "print(\"Job Output file:\")\n",
    "\n",
    "print(\"****************************************************\")\n",
    "job_uuid=job_output.uuid\n",
    "print(client.jobs.getJobOutputDownload(jobUuid=job_uuid,outputPath='tapisjob.out'))\n",
    "print(\"****************************************************\")"
   ],
   "metadata": {
    "collapsed": false,
    "pycharm": {
     "name": "#%%\n"
    }
   }
  },
  {
   "cell_type": "markdown",
   "source": [
    "Run Job on HPC\n",
    "We can use the same Tapis application, that we registered earlier to run on a HPC machine\n",
    "We have already registered execution system on Stampede2"
   ],
   "metadata": {
    "collapsed": false
   }
  },
  {
   "cell_type": "code",
   "execution_count": null,
   "outputs": [],
   "source": [
    "# Run Image classifier app on the Virtual Machine\n",
    "# In the arg pass a url of the image you would like to classify\n",
    "pa = {\n",
    " \"parameterSet\": {\n",
    "      \"appArgs\": [\n",
    "          {\"arg\": \"--image_file\"},\n",
    "          {\"arg\": \"'https://s3.amazonaws.com/cdn-origin-etr.akc.org/wp-content/uploads/2017/11/12231410/Labrador-Retriever-On-White-01.jpg'\"}\n",
    "      ],\n",
    "      \"schedulerOptions\": [\n",
    "        {\"arg\": \"--tapis-profile tacc\"}\n",
    "      ]\n",
    " }\n",
    "}\n",
    "# Submit a job\n",
    "job_output=client.jobs.submitJob(name='img-classifier-job-vm',description='image classifier',appId=app_id,execSystemId=system_id_hpc,appVersion= '0.0.1',\n",
    "  **pa)"
   ],
   "metadata": {
    "collapsed": false,
    "pycharm": {
     "name": "#%%\n"
    }
   }
  },
  {
   "cell_type": "code",
   "execution_count": null,
   "outputs": [],
   "source": [
    "print(\"****************************************************\")\n",
    "print(\"Job Submitted: \" + app_id)\n",
    "print(\"****************************************************\")\n",
    "print(job_output)"
   ],
   "metadata": {
    "collapsed": false,
    "pycharm": {
     "name": "#%%\n"
    }
   }
  },
  {
   "cell_type": "code",
   "execution_count": null,
   "outputs": [],
   "source": [
    "# Check the status of the job\n",
    "print(\"****************************************************\")\n",
    "job_uuid=job_output.uuid\n",
    "print(client.jobs.getJobStatus(jobUuid=job_uuid))\n",
    "print(\"****************************************************\")"
   ],
   "metadata": {
    "collapsed": false,
    "pycharm": {
     "name": "#%%\n"
    }
   }
  },
  {
   "cell_type": "code",
   "execution_count": null,
   "outputs": [],
   "source": [
    "# Download output of the job\n",
    "print(\"Job Output file:\")\n",
    "\n",
    "print(\"****************************************************\")\n",
    "job_uuid=job_output.uuid\n",
    "print(client.jobs.getJobOutputDownload(jobUuid=job_uuid,outputPath='tapisjob.out'))\n",
    "print(\"****************************************************\")"
   ],
   "metadata": {
    "collapsed": false,
    "pycharm": {
     "name": "#%%\n"
    }
   }
  },
  {
   "cell_type": "code",
   "execution_count": null,
   "outputs": [],
   "source": [],
   "metadata": {
    "collapsed": false,
    "pycharm": {
     "name": "#%%\n"
    }
   }
  }
 ],
 "metadata": {
  "kernelspec": {
   "display_name": "Python 3",
   "language": "python",
   "name": "python3"
  },
  "language_info": {
   "codemirror_mode": {
    "name": "ipython",
    "version": 3
   },
   "file_extension": ".py",
   "mimetype": "text/x-python",
   "name": "python",
   "nbconvert_exporter": "python",
   "pygments_lexer": "ipython3",
   "version": "3.7.5"
  }
 },
 "nbformat": 4,
 "nbformat_minor": 2
}